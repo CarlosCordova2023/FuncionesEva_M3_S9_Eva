{
  "nbformat": 4,
  "nbformat_minor": 0,
  "metadata": {
    "colab": {
      "provenance": [],
      "authorship_tag": "ABX9TyP8K8rVhygqNldMVRFBS1nE",
      "include_colab_link": true
    },
    "kernelspec": {
      "name": "python3",
      "display_name": "Python 3"
    },
    "language_info": {
      "name": "python"
    }
  },
  "cells": [
    {
      "cell_type": "markdown",
      "metadata": {
        "id": "view-in-github",
        "colab_type": "text"
      },
      "source": [
        "<a href=\"https://colab.research.google.com/github/CarlosCordova2023/FuncionesEva_M3_S9_Eva/blob/main/FuncionesEva.ipynb\" target=\"_parent\"><img src=\"https://colab.research.google.com/assets/colab-badge.svg\" alt=\"Open In Colab\"/></a>"
      ]
    },
    {
      "cell_type": "code",
      "execution_count": 1,
      "metadata": {
        "colab": {
          "base_uri": "https://localhost:8080/"
        },
        "id": "xWQsbHfBoick",
        "outputId": "b1ebfc09-0cce-4863-841b-b943c9c7a4a3"
      },
      "outputs": [
        {
          "output_type": "stream",
          "name": "stdout",
          "text": [
            "Resultados en el diccionario: {'Suma': 15, 'Resta': 5, 'Multiplicación': 50, 'División': 2.0}\n"
          ]
        }
      ],
      "source": [
        "# Función para sumar dos números\n",
        "def sumar(a, b):\n",
        "    return a + b\n",
        "\n",
        "\n",
        "def restar(a, b):\n",
        "    return a - b\n",
        "\n",
        "\n",
        "def multiplicar(a, b):\n",
        "    return a * b\n",
        "\n",
        "\n",
        "def dividir(a, b):\n",
        "    if b == 0:\n",
        "        return \"División por cero no permitida\"\n",
        "    return a / b\n",
        "\n",
        "\n",
        "def operaciones(a, b):\n",
        "    suma = sumar(a, b)\n",
        "    resta = restar(a, b)\n",
        "    multiplicacion = multiplicar(a, b)\n",
        "    division = dividir(a, b)\n",
        "    return (suma, resta, multiplicacion, division)\n",
        "\n",
        "\n",
        "a = 10\n",
        "b = 5\n",
        "resultados = operaciones(a, b)\n",
        "\n",
        "resultados_diccionario = {\n",
        "    \"Suma\": resultados[0],\n",
        "    \"Resta\": resultados[1],\n",
        "    \"Multiplicación\": resultados[2],\n",
        "    \"División\": resultados[3]\n",
        "}\n",
        "\n",
        "print(\"Resultados en el diccionario:\", resultados_diccionario)\n"
      ]
    }
  ]
}